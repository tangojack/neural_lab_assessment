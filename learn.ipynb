{
 "cells": [
  {
   "cell_type": "code",
   "execution_count": null,
   "metadata": {},
   "outputs": [],
   "source": [
    "import pandas as pd\n",
    "import numpy as np\n",
    "from sqlalchemy import create_engine"
   ]
  },
  {
   "cell_type": "code",
   "execution_count": 10,
   "metadata": {},
   "outputs": [],
   "source": [
    "engine = create_engine('mysql+pymysql://root:@127.0.0.1:3306/db')\n",
    "flights = pd.read_sql_table('Flights', engine)\n",
    "flight_arrivals = pd.read_sql_table('FlightArrivals', engine)\n",
    "drivers = pd.read_sql_table('Drivers', engine)\n",
    "tasks = pd.read_sql_table('Tasks', engine)"
   ]
  },
  {
   "cell_type": "code",
   "execution_count": 11,
   "metadata": {},
   "outputs": [
    {
     "data": {
      "text/html": [
       "<div>\n",
       "<style scoped>\n",
       "    .dataframe tbody tr th:only-of-type {\n",
       "        vertical-align: middle;\n",
       "    }\n",
       "\n",
       "    .dataframe tbody tr th {\n",
       "        vertical-align: top;\n",
       "    }\n",
       "\n",
       "    .dataframe thead th {\n",
       "        text-align: right;\n",
       "    }\n",
       "</style>\n",
       "<table border=\"1\" class=\"dataframe\">\n",
       "  <thead>\n",
       "    <tr style=\"text-align: right;\">\n",
       "      <th></th>\n",
       "      <th>arrival_id</th>\n",
       "      <th>flight_id</th>\n",
       "      <th>aibt</th>\n",
       "      <th>trip_time</th>\n",
       "      <th>earliest_pickup_minutes</th>\n",
       "      <th>first_bag_on_belt_minutes</th>\n",
       "    </tr>\n",
       "  </thead>\n",
       "  <tbody>\n",
       "    <tr>\n",
       "      <th>0</th>\n",
       "      <td>1</td>\n",
       "      <td>SQ391</td>\n",
       "      <td>2023-09-16 05:08:00</td>\n",
       "      <td>00:02:37</td>\n",
       "      <td>11</td>\n",
       "      <td>15</td>\n",
       "    </tr>\n",
       "  </tbody>\n",
       "</table>\n",
       "</div>"
      ],
      "text/plain": [
       "   arrival_id flight_id                aibt trip_time  \\\n",
       "0           1     SQ391 2023-09-16 05:08:00  00:02:37   \n",
       "\n",
       "   earliest_pickup_minutes  first_bag_on_belt_minutes  \n",
       "0                       11                         15  "
      ]
     },
     "execution_count": 11,
     "metadata": {},
     "output_type": "execute_result"
    }
   ],
   "source": [
    "flight_arrivals.head(1)"
   ]
  },
  {
   "cell_type": "code",
   "execution_count": 16,
   "metadata": {},
   "outputs": [],
   "source": [
    "def get_available_driver():\n",
    "    assigned_drivers = tasks[tasks['is_completed'] == 0]['driver_id'].unique()\n",
    "    available_driver = drivers[~drivers['driver_id'].isin(assigned_drivers)].iloc[0]\n",
    "    return available_driver"
   ]
  },
  {
   "cell_type": "code",
   "execution_count": 20,
   "metadata": {},
   "outputs": [],
   "source": [
    "def create_first_task_for_flight_arrival(flight_arrival):\n",
    "    task = {\n",
    "        'arrival_id': flight_arrival['arrival_id'],\n",
    "        'driver_id': get_available_driver()['driver_id'],\n",
    "        'is_completed': 0,\n",
    "        'task_id': 1,\n",
    "    }\n",
    "    tasks = tasks.append(task, ignore_index=True)\n",
    "    task_df = pd.DataFrame([task])\n",
    "    task_df.to_sql('Tasks', con=engine, if_exists='append', index=False)\n",
    "    return task"
   ]
  },
  {
   "cell_type": "code",
   "execution_count": null,
   "metadata": {},
   "outputs": [],
   "source": [
    "def start_task(task_id):\n",
    "    task = tasks[tasks['task_id'] == task_id].iloc[0]\n",
    "    task['is_completed'] = 1\n",
    "    task['start_time'] = pd.Timestamp.now()\n",
    "    tasks.update(task)\n",
    "    tasks.to_sql('Tasks', con=engine, if_exists='append', index=False)\n",
    "    return task"
   ]
  },
  {
   "cell_type": "code",
   "execution_count": 21,
   "metadata": {},
   "outputs": [],
   "source": [
    "def end_task(task_id):\n",
    "    task = tasks[tasks['task_id'] == task_id].iloc[0]\n",
    "    task['is_completed'] = 1\n",
    "    task['end_time'] = pd.Timestamp.now()\n",
    "    tasks.update(task)\n",
    "    tasks.to_sql('Tasks', con=engine, if_exists='append', index=False)\n",
    "    return task"
   ]
  },
  {
   "cell_type": "code",
   "execution_count": null,
   "metadata": {},
   "outputs": [
    {
     "data": {
      "text/plain": [
       "{'arrival_id': np.int64(1),\n",
       " 'driver_id': 'Driver1',\n",
       " 'is_completed': 0,\n",
       " 'task_number': 1}"
      ]
     },
     "execution_count": 19,
     "metadata": {},
     "output_type": "execute_result"
    }
   ],
   "source": [
    "create_first_task_for_flight_arrival(flight_arrivals.loc[0,:])\n"
   ]
  },
  {
   "cell_type": "code",
   "execution_count": null,
   "metadata": {},
   "outputs": [],
   "source": [
    "def mark_as_completed(task_id):\n",
    "    tasks.loc[tasks['task_id'] == task_id, 'is_completed'] = 1"
   ]
  }
 ],
 "metadata": {
  "kernelspec": {
   "display_name": "jupyter",
   "language": "python",
   "name": "python3"
  },
  "language_info": {
   "codemirror_mode": {
    "name": "ipython",
    "version": 3
   },
   "file_extension": ".py",
   "mimetype": "text/x-python",
   "name": "python",
   "nbconvert_exporter": "python",
   "pygments_lexer": "ipython3",
   "version": "3.9.6"
  }
 },
 "nbformat": 4,
 "nbformat_minor": 2
}
