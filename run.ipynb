{
 "cells": [
  {
   "cell_type": "code",
   "execution_count": 3,
   "metadata": {},
   "outputs": [],
   "source": [
    "import pandas as pd\n",
    "import numpy as np\n",
    "from sqlalchemy import create_engine\n",
    "from datetime import timedelta"
   ]
  },
  {
   "cell_type": "markdown",
   "metadata": {},
   "source": [
    "SQL file can be run initially from run.sql to populate the values. The following block of code will read all the tables."
   ]
  },
  {
   "cell_type": "code",
   "execution_count": 4,
   "metadata": {},
   "outputs": [],
   "source": [
    "engine = create_engine('mysql+pymysql://root:@127.0.0.1:3306/db')\n",
    "flights = pd.read_sql_table('flights', engine)\n",
    "arrivals = pd.read_sql_table('arrivals', engine)\n",
    "drivers = pd.read_sql_table('drivers', engine)\n",
    "tasks = pd.read_sql_table('tasks', engine)"
   ]
  },
  {
   "cell_type": "code",
   "execution_count": 5,
   "metadata": {},
   "outputs": [],
   "source": [
    "def read_from_db():\n",
    "    global flights, arrivals, drivers, tasks\n",
    "    flights = pd.read_sql_table('flights', engine)\n",
    "    arrivals = pd.read_sql_table('arrivals', engine)\n",
    "    drivers = pd.read_sql_table('drivers', engine)\n",
    "    tasks = pd.read_sql_table('tasks', engine)"
   ]
  },
  {
   "cell_type": "code",
   "execution_count": 6,
   "metadata": {},
   "outputs": [],
   "source": [
    "arrivals[\"available_to_pick_up_at\"] = arrivals[\"aibt\"] + pd.to_timedelta(\n",
    "    arrivals[\"earliest_pickup_minutes\"], unit=\"m\"\n",
    ")\n",
    "arrivals.sort_values(by=\"available_to_pick_up_at\", inplace=True)"
   ]
  },
  {
   "cell_type": "markdown",
   "metadata": {},
   "source": [
    "We make an assumption it take \"x\" minutes to get from thetarmac to the flight's pick up area. In production the following code would probably run in a cron job of every 1 minute to see which driver should be assigned to which flight. For now, we will write it manually."
   ]
  },
  {
   "cell_type": "markdown",
   "metadata": {},
   "source": [
    "Here is a utility function to get the next available driver. We simply do a difference of drivers - drivers with tasks (which is all tasks with start time and no end time)\n",
    "\n"
   ]
  },
  {
   "cell_type": "code",
   "execution_count": 7,
   "metadata": {},
   "outputs": [],
   "source": [
    "def get_available_driver():\n",
    "    global drivers, tasks\n",
    "    # Filter tasks with a start_time but no end_time\n",
    "    active_tasks = tasks[tasks['start_time'].notnull() & tasks['end_time'].isnull()]\n",
    "    \n",
    "    # Get the driver IDs associated with these tasks\n",
    "    assigned_drivers = active_tasks['driver_id'].unique()\n",
    "    \n",
    "    # Get all drivers who are not assigned to active tasks\n",
    "    available_drivers = drivers[~drivers['driver_id'].isin(assigned_drivers)]\n",
    "    \n",
    "    # Check if there are any available drivers\n",
    "    if available_drivers.empty:\n",
    "        return None  # Return None if no drivers are available\n",
    "    \n",
    "    print(available_drivers)\n",
    "    # Return the first available driver\n",
    "    return available_drivers.iloc[0]"
   ]
  },
  {
   "cell_type": "code",
   "execution_count": 8,
   "metadata": {},
   "outputs": [
    {
     "name": "stdout",
     "output_type": "stream",
     "text": [
      "  driver_id    driver_name\n",
      "0   Driver1     John Smith\n",
      "1   Driver2   Emma Johnson\n",
      "2   Driver3  Michael Brown\n",
      "3   Driver4    Sarah Davis\n"
     ]
    },
    {
     "data": {
      "text/plain": [
       "driver_id         Driver1\n",
       "driver_name    John Smith\n",
       "Name: 0, dtype: object"
      ]
     },
     "execution_count": 8,
     "metadata": {},
     "output_type": "execute_result"
    }
   ],
   "source": [
    "get_available_driver()"
   ]
  },
  {
   "cell_type": "markdown",
   "metadata": {},
   "source": [
    "Driver John Smith will now start his task"
   ]
  },
  {
   "cell_type": "markdown",
   "metadata": {},
   "source": [
    "This utility function will add a start time to the task and update with a driver_id. Here we'll manually put John Smith and the task number of 1. This function is ACID compliant"
   ]
  },
  {
   "cell_type": "code",
   "execution_count": 9,
   "metadata": {},
   "outputs": [],
   "source": [
    "def start_task(arrival_id, driver_id, task_number):\n",
    "    task = {\n",
    "        \"arrival_id\": arrival_id,\n",
    "        \"driver_id\": driver_id,\n",
    "        \"task_number\": task_number,\n",
    "        \"is_completed\": 0,\n",
    "        \"start_time\": pd.Timestamp.now(),\n",
    "        \"end_time\": None\n",
    "    }\n",
    "    pd.DataFrame([task]).to_sql(\"tasks\", con=engine, if_exists=\"append\", index=False)\n",
    "    return task"
   ]
  },
  {
   "cell_type": "code",
   "execution_count": 10,
   "metadata": {},
   "outputs": [
    {
     "data": {
      "text/plain": [
       "{'arrival_id': np.int64(1),\n",
       " 'driver_id': 'Driver1',\n",
       " 'task_number': 1,\n",
       " 'is_completed': 0,\n",
       " 'start_time': Timestamp('2025-03-31 14:06:05.760373'),\n",
       " 'end_time': None}"
      ]
     },
     "execution_count": 10,
     "metadata": {},
     "output_type": "execute_result"
    }
   ],
   "source": [
    "start_task(arrival_id=arrivals.loc[0, \"arrival_id\"], driver_id=\"Driver1\", task_number=1)"
   ]
  },
  {
   "cell_type": "markdown",
   "metadata": {},
   "source": [
    "Now, that the first task is created, we will proceed to the next available arrival and assign it to the next available driver. We will keep doing this until there is no available driver"
   ]
  },
  {
   "cell_type": "markdown",
   "metadata": {},
   "source": [
    "Here we just do a refresh of the in-memory values. You can have a peek at what tasks look like"
   ]
  },
  {
   "cell_type": "code",
   "execution_count": 11,
   "metadata": {},
   "outputs": [
    {
     "data": {
      "text/html": [
       "<div>\n",
       "<style scoped>\n",
       "    .dataframe tbody tr th:only-of-type {\n",
       "        vertical-align: middle;\n",
       "    }\n",
       "\n",
       "    .dataframe tbody tr th {\n",
       "        vertical-align: top;\n",
       "    }\n",
       "\n",
       "    .dataframe thead th {\n",
       "        text-align: right;\n",
       "    }\n",
       "</style>\n",
       "<table border=\"1\" class=\"dataframe\">\n",
       "  <thead>\n",
       "    <tr style=\"text-align: right;\">\n",
       "      <th></th>\n",
       "      <th>task_id</th>\n",
       "      <th>arrival_id</th>\n",
       "      <th>driver_id</th>\n",
       "      <th>task_number</th>\n",
       "      <th>start_time</th>\n",
       "      <th>end_time</th>\n",
       "      <th>is_completed</th>\n",
       "    </tr>\n",
       "  </thead>\n",
       "  <tbody>\n",
       "    <tr>\n",
       "      <th>0</th>\n",
       "      <td>1</td>\n",
       "      <td>1</td>\n",
       "      <td>Driver1</td>\n",
       "      <td>1</td>\n",
       "      <td>2025-03-31 14:06:06</td>\n",
       "      <td>NaT</td>\n",
       "      <td>0</td>\n",
       "    </tr>\n",
       "  </tbody>\n",
       "</table>\n",
       "</div>"
      ],
      "text/plain": [
       "   task_id  arrival_id driver_id task_number          start_time end_time  \\\n",
       "0        1           1   Driver1           1 2025-03-31 14:06:06      NaT   \n",
       "\n",
       "   is_completed  \n",
       "0             0  "
      ]
     },
     "execution_count": 11,
     "metadata": {},
     "output_type": "execute_result"
    }
   ],
   "source": [
    "read_from_db()\n",
    "tasks.head(4)"
   ]
  },
  {
   "cell_type": "markdown",
   "metadata": {},
   "source": [
    "If you see here, the next available driver for arrivals[1] is Emma Johnson, since John Smith is busy."
   ]
  },
  {
   "cell_type": "code",
   "execution_count": 12,
   "metadata": {},
   "outputs": [
    {
     "name": "stdout",
     "output_type": "stream",
     "text": [
      "  driver_id    driver_name\n",
      "1   Driver2   Emma Johnson\n",
      "2   Driver3  Michael Brown\n",
      "3   Driver4    Sarah Davis\n"
     ]
    },
    {
     "data": {
      "text/plain": [
       "driver_id           Driver2\n",
       "driver_name    Emma Johnson\n",
       "Name: 1, dtype: object"
      ]
     },
     "execution_count": 12,
     "metadata": {},
     "output_type": "execute_result"
    }
   ],
   "source": [
    "get_available_driver()"
   ]
  },
  {
   "cell_type": "code",
   "execution_count": 13,
   "metadata": {},
   "outputs": [
    {
     "data": {
      "text/plain": [
       "{'arrival_id': np.int64(2),\n",
       " 'driver_id': 'Driver2',\n",
       " 'task_number': 1,\n",
       " 'is_completed': 0,\n",
       " 'start_time': Timestamp('2025-03-31 14:06:14.012220'),\n",
       " 'end_time': None}"
      ]
     },
     "execution_count": 13,
     "metadata": {},
     "output_type": "execute_result"
    }
   ],
   "source": [
    "start_task(arrival_id=arrivals.loc[1, \"arrival_id\"], driver_id=\"Driver2\", task_number=1)"
   ]
  },
  {
   "cell_type": "code",
   "execution_count": 14,
   "metadata": {},
   "outputs": [
    {
     "data": {
      "text/html": [
       "<div>\n",
       "<style scoped>\n",
       "    .dataframe tbody tr th:only-of-type {\n",
       "        vertical-align: middle;\n",
       "    }\n",
       "\n",
       "    .dataframe tbody tr th {\n",
       "        vertical-align: top;\n",
       "    }\n",
       "\n",
       "    .dataframe thead th {\n",
       "        text-align: right;\n",
       "    }\n",
       "</style>\n",
       "<table border=\"1\" class=\"dataframe\">\n",
       "  <thead>\n",
       "    <tr style=\"text-align: right;\">\n",
       "      <th></th>\n",
       "      <th>task_id</th>\n",
       "      <th>arrival_id</th>\n",
       "      <th>driver_id</th>\n",
       "      <th>task_number</th>\n",
       "      <th>start_time</th>\n",
       "      <th>end_time</th>\n",
       "      <th>is_completed</th>\n",
       "    </tr>\n",
       "  </thead>\n",
       "  <tbody>\n",
       "    <tr>\n",
       "      <th>0</th>\n",
       "      <td>1</td>\n",
       "      <td>1</td>\n",
       "      <td>Driver1</td>\n",
       "      <td>1</td>\n",
       "      <td>2025-03-31 14:06:06</td>\n",
       "      <td>NaT</td>\n",
       "      <td>0</td>\n",
       "    </tr>\n",
       "    <tr>\n",
       "      <th>1</th>\n",
       "      <td>2</td>\n",
       "      <td>2</td>\n",
       "      <td>Driver2</td>\n",
       "      <td>1</td>\n",
       "      <td>2025-03-31 14:06:14</td>\n",
       "      <td>NaT</td>\n",
       "      <td>0</td>\n",
       "    </tr>\n",
       "  </tbody>\n",
       "</table>\n",
       "</div>"
      ],
      "text/plain": [
       "   task_id  arrival_id driver_id task_number          start_time end_time  \\\n",
       "0        1           1   Driver1           1 2025-03-31 14:06:06      NaT   \n",
       "1        2           2   Driver2           1 2025-03-31 14:06:14      NaT   \n",
       "\n",
       "   is_completed  \n",
       "0             0  \n",
       "1             0  "
      ]
     },
     "execution_count": 14,
     "metadata": {},
     "output_type": "execute_result"
    }
   ],
   "source": [
    "read_from_db()\n",
    "tasks.head(4)"
   ]
  },
  {
   "cell_type": "code",
   "execution_count": 15,
   "metadata": {},
   "outputs": [
    {
     "name": "stdout",
     "output_type": "stream",
     "text": [
      "  driver_id    driver_name\n",
      "2   Driver3  Michael Brown\n",
      "3   Driver4    Sarah Davis\n"
     ]
    },
    {
     "data": {
      "text/plain": [
       "driver_id            Driver3\n",
       "driver_name    Michael Brown\n",
       "Name: 2, dtype: object"
      ]
     },
     "execution_count": 15,
     "metadata": {},
     "output_type": "execute_result"
    }
   ],
   "source": [
    "get_available_driver()"
   ]
  },
  {
   "cell_type": "code",
   "execution_count": 16,
   "metadata": {},
   "outputs": [
    {
     "data": {
      "text/plain": [
       "{'arrival_id': np.int64(3),\n",
       " 'driver_id': 'Driver3',\n",
       " 'task_number': 1,\n",
       " 'is_completed': 0,\n",
       " 'start_time': Timestamp('2025-03-31 14:06:21.423192'),\n",
       " 'end_time': None}"
      ]
     },
     "execution_count": 16,
     "metadata": {},
     "output_type": "execute_result"
    }
   ],
   "source": [
    "start_task(arrival_id=arrivals.loc[2, \"arrival_id\"], driver_id=\"Driver3\", task_number=1)"
   ]
  },
  {
   "cell_type": "code",
   "execution_count": 17,
   "metadata": {},
   "outputs": [
    {
     "data": {
      "text/html": [
       "<div>\n",
       "<style scoped>\n",
       "    .dataframe tbody tr th:only-of-type {\n",
       "        vertical-align: middle;\n",
       "    }\n",
       "\n",
       "    .dataframe tbody tr th {\n",
       "        vertical-align: top;\n",
       "    }\n",
       "\n",
       "    .dataframe thead th {\n",
       "        text-align: right;\n",
       "    }\n",
       "</style>\n",
       "<table border=\"1\" class=\"dataframe\">\n",
       "  <thead>\n",
       "    <tr style=\"text-align: right;\">\n",
       "      <th></th>\n",
       "      <th>task_id</th>\n",
       "      <th>arrival_id</th>\n",
       "      <th>driver_id</th>\n",
       "      <th>task_number</th>\n",
       "      <th>start_time</th>\n",
       "      <th>end_time</th>\n",
       "      <th>is_completed</th>\n",
       "    </tr>\n",
       "  </thead>\n",
       "  <tbody>\n",
       "    <tr>\n",
       "      <th>0</th>\n",
       "      <td>1</td>\n",
       "      <td>1</td>\n",
       "      <td>Driver1</td>\n",
       "      <td>1</td>\n",
       "      <td>2025-03-31 14:06:06</td>\n",
       "      <td>NaT</td>\n",
       "      <td>0</td>\n",
       "    </tr>\n",
       "    <tr>\n",
       "      <th>1</th>\n",
       "      <td>2</td>\n",
       "      <td>2</td>\n",
       "      <td>Driver2</td>\n",
       "      <td>1</td>\n",
       "      <td>2025-03-31 14:06:14</td>\n",
       "      <td>NaT</td>\n",
       "      <td>0</td>\n",
       "    </tr>\n",
       "    <tr>\n",
       "      <th>2</th>\n",
       "      <td>3</td>\n",
       "      <td>3</td>\n",
       "      <td>Driver3</td>\n",
       "      <td>1</td>\n",
       "      <td>2025-03-31 14:06:21</td>\n",
       "      <td>NaT</td>\n",
       "      <td>0</td>\n",
       "    </tr>\n",
       "  </tbody>\n",
       "</table>\n",
       "</div>"
      ],
      "text/plain": [
       "   task_id  arrival_id driver_id task_number          start_time end_time  \\\n",
       "0        1           1   Driver1           1 2025-03-31 14:06:06      NaT   \n",
       "1        2           2   Driver2           1 2025-03-31 14:06:14      NaT   \n",
       "2        3           3   Driver3           1 2025-03-31 14:06:21      NaT   \n",
       "\n",
       "   is_completed  \n",
       "0             0  \n",
       "1             0  \n",
       "2             0  "
      ]
     },
     "execution_count": 17,
     "metadata": {},
     "output_type": "execute_result"
    }
   ],
   "source": [
    "read_from_db()\n",
    "tasks.head(4)"
   ]
  },
  {
   "cell_type": "code",
   "execution_count": 18,
   "metadata": {},
   "outputs": [
    {
     "name": "stdout",
     "output_type": "stream",
     "text": [
      "  driver_id  driver_name\n",
      "3   Driver4  Sarah Davis\n"
     ]
    },
    {
     "data": {
      "text/plain": [
       "driver_id          Driver4\n",
       "driver_name    Sarah Davis\n",
       "Name: 3, dtype: object"
      ]
     },
     "execution_count": 18,
     "metadata": {},
     "output_type": "execute_result"
    }
   ],
   "source": [
    "get_available_driver()"
   ]
  },
  {
   "cell_type": "markdown",
   "metadata": {},
   "source": [
    "Okay, now we have demonstrated starting of tasks and assigning drivers works well :)\n",
    "\n",
    "Lets now, assume that the driver John Smith has completed the task. We will update the task to mark it as completed and set the end time. \n",
    "\n",
    "If its task_number 1 we will check to see if the first bag check is on time or delayed. If its task number 4, we will check if the last bag check is on time or delayed\n",
    "NOTE: Not implemented due to lack of time :'(\n"
   ]
  },
  {
   "cell_type": "code",
   "execution_count": 19,
   "metadata": {},
   "outputs": [],
   "source": [
    "def end_task(task_id):\n",
    "    global tasks\n",
    "    task = tasks[tasks['task_id'] == task_id].iloc[0]\n",
    "    task['end_time'] = pd.Timestamp.now()\n",
    "    task['is_completed'] = 1\n",
    "    tasks.update(task)\n",
    "    if task['task_number'] == 1:\n",
    "        # if end_time > first_bag_on_belt_minutes + aibt\n",
    "        # update as delayed\n",
    "        pass\n",
    "    if task['task_number'] == 4:\n",
    "        # update as delayed or completed\n",
    "        pass\n",
    "    tasks.to_sql('tasks', con=engine, if_exists='replace', index=False, method='multi')\n",
    "    return task"
   ]
  },
  {
   "cell_type": "code",
   "execution_count": 20,
   "metadata": {},
   "outputs": [],
   "source": [
    "eneded_task = end_task(task_id=tasks.loc[1, \"task_id\"])"
   ]
  },
  {
   "cell_type": "code",
   "execution_count": 21,
   "metadata": {},
   "outputs": [
    {
     "data": {
      "text/html": [
       "<div>\n",
       "<style scoped>\n",
       "    .dataframe tbody tr th:only-of-type {\n",
       "        vertical-align: middle;\n",
       "    }\n",
       "\n",
       "    .dataframe tbody tr th {\n",
       "        vertical-align: top;\n",
       "    }\n",
       "\n",
       "    .dataframe thead th {\n",
       "        text-align: right;\n",
       "    }\n",
       "</style>\n",
       "<table border=\"1\" class=\"dataframe\">\n",
       "  <thead>\n",
       "    <tr style=\"text-align: right;\">\n",
       "      <th></th>\n",
       "      <th>task_id</th>\n",
       "      <th>arrival_id</th>\n",
       "      <th>driver_id</th>\n",
       "      <th>task_number</th>\n",
       "      <th>start_time</th>\n",
       "      <th>end_time</th>\n",
       "      <th>is_completed</th>\n",
       "    </tr>\n",
       "  </thead>\n",
       "  <tbody>\n",
       "    <tr>\n",
       "      <th>0</th>\n",
       "      <td>1</td>\n",
       "      <td>1</td>\n",
       "      <td>Driver1</td>\n",
       "      <td>1</td>\n",
       "      <td>2025-03-31 14:06:06</td>\n",
       "      <td>NaT</td>\n",
       "      <td>0</td>\n",
       "    </tr>\n",
       "    <tr>\n",
       "      <th>1</th>\n",
       "      <td>2</td>\n",
       "      <td>2</td>\n",
       "      <td>Driver2</td>\n",
       "      <td>1</td>\n",
       "      <td>2025-03-31 14:06:14</td>\n",
       "      <td>NaT</td>\n",
       "      <td>0</td>\n",
       "    </tr>\n",
       "    <tr>\n",
       "      <th>2</th>\n",
       "      <td>3</td>\n",
       "      <td>3</td>\n",
       "      <td>Driver3</td>\n",
       "      <td>1</td>\n",
       "      <td>2025-03-31 14:06:21</td>\n",
       "      <td>NaT</td>\n",
       "      <td>0</td>\n",
       "    </tr>\n",
       "  </tbody>\n",
       "</table>\n",
       "</div>"
      ],
      "text/plain": [
       "   task_id  arrival_id driver_id task_number          start_time end_time  \\\n",
       "0        1           1   Driver1           1 2025-03-31 14:06:06      NaT   \n",
       "1        2           2   Driver2           1 2025-03-31 14:06:14      NaT   \n",
       "2        3           3   Driver3           1 2025-03-31 14:06:21      NaT   \n",
       "\n",
       "   is_completed  \n",
       "0             0  \n",
       "1             0  \n",
       "2             0  "
      ]
     },
     "execution_count": 21,
     "metadata": {},
     "output_type": "execute_result"
    }
   ],
   "source": [
    "# A slight note here that the SQL used in end_task does update end_time\n",
    "# I've marked this as a bug.\n",
    "# TODO: Fix this\n",
    "read_from_db()\n",
    "tasks.head(4)"
   ]
  },
  {
   "cell_type": "markdown",
   "metadata": {},
   "source": [
    "This will return both John Smith and Sarah Davis as available drivers\n",
    "and John Smith as the first available driver if the above TODO is fixed"
   ]
  },
  {
   "cell_type": "code",
   "execution_count": 22,
   "metadata": {},
   "outputs": [
    {
     "name": "stdout",
     "output_type": "stream",
     "text": [
      "  driver_id  driver_name\n",
      "3   Driver4  Sarah Davis\n"
     ]
    },
    {
     "data": {
      "text/plain": [
       "driver_id          Driver4\n",
       "driver_name    Sarah Davis\n",
       "Name: 3, dtype: object"
      ]
     },
     "execution_count": 22,
     "metadata": {},
     "output_type": "execute_result"
    }
   ],
   "source": [
    "get_available_driver()"
   ]
  },
  {
   "cell_type": "markdown",
   "metadata": {},
   "source": [
    "Like this, once the task has been ended we would start the next task with the task number + 1 (if its not 4), for the corresponding arrival"
   ]
  },
  {
   "cell_type": "code",
   "execution_count": null,
   "metadata": {},
   "outputs": [],
   "source": [
    "# TODO: Use details of ended_task to start next task\n",
    "# start_task(arrival_id=ended_task.arrival, driver_id=\"Driver3\", task_number=ended_task + 1))"
   ]
  },
  {
   "cell_type": "markdown",
   "metadata": {},
   "source": [
    "In this way, we will be able to track the tasks of each driver, and finish the assignment of bags for each arrival.\n",
    "\n",
    "### Points to Note\n",
    "\n",
    "All of the utility functions can be written as REST endpoints. I have used Django Rest Framwework in the past and a simple web app can be written for the above.\n",
    "\n",
    "Using Django's models features, and authentication (for drivers), we can ensure this software is fully tested, is safe as works as expected in an efficient way. \n"
   ]
  }
 ],
 "metadata": {
  "kernelspec": {
   "display_name": "env",
   "language": "python",
   "name": "python3"
  },
  "language_info": {
   "codemirror_mode": {
    "name": "ipython",
    "version": 3
   },
   "file_extension": ".py",
   "mimetype": "text/x-python",
   "name": "python",
   "nbconvert_exporter": "python",
   "pygments_lexer": "ipython3",
   "version": "3.9.6"
  }
 },
 "nbformat": 4,
 "nbformat_minor": 2
}
